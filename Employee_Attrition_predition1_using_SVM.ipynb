{
  "cells": [
    {
      "cell_type": "markdown",
      "metadata": {
        "id": "view-in-github",
        "colab_type": "text"
      },
      "source": [
        "<a href=\"https://colab.research.google.com/github/Felista-Mueni/Felista-Mueni/blob/main/Employee_Attrition_predition1_using_SVM.ipynb\" target=\"_parent\"><img src=\"https://colab.research.google.com/assets/colab-badge.svg\" alt=\"Open In Colab\"/></a>"
      ]
    },
    {
      "cell_type": "code",
      "execution_count": null,
      "metadata": {
        "id": "970SwE--WMYN"
      },
      "outputs": [],
      "source": [
        "#load the libraries to be used\n",
        "import matplotlib.pyplot as plt\n",
        "import seaborn as sns\n",
        "import pandas as pd\n",
        "from sklearn.metrics import (confusion_matrix, f1_score, recall_score,\n",
        "                             roc_auc_score, accuracy_score,auc, roc_curve )\n",
        "from sklearn.model_selection import train_test_split\n",
        "from sklearn.preprocessing import StandardScaler\n",
        "from sklearn.svm import SVC,LinearSVC"
      ]
    },
    {
      "cell_type": "code",
      "execution_count": null,
      "metadata": {
        "colab": {
          "base_uri": "https://localhost:8080/"
        },
        "id": "bpBlOzRXqTKF",
        "outputId": "35c7f6ca-3473-4cac-f90a-178082fa06c7"
      },
      "outputs": [
        {
          "name": "stdout",
          "output_type": "stream",
          "text": [
            "Drive already mounted at /content/drive; to attempt to forcibly remount, call drive.mount(\"/content/drive\", force_remount=True).\n"
          ]
        }
      ],
      "source": [
        "from google.colab import drive\n",
        "drive.mount('/content/drive')"
      ]
    },
    {
      "cell_type": "code",
      "execution_count": null,
      "metadata": {
        "colab": {
          "base_uri": "https://localhost:8080/",
          "height": 480
        },
        "id": "g2K1HuYyDohG",
        "outputId": "d39085c1-91c9-411b-bd46-abc9fcfb8d6a"
      },
      "outputs": [
        {
          "name": "stderr",
          "output_type": "stream",
          "text": [
            "/usr/local/lib/python3.8/dist-packages/IPython/core/interactiveshell.py:3326: DtypeWarning: Columns (3,4,5,10) have mixed types.Specify dtype option on import or set low_memory=False.\n",
            "  exec(code_obj, self.user_global_ns, self.user_ns)\n"
          ]
        },
        {
          "data": {
            "text/html": [
              "\n",
              "  <div id=\"df-2608b9f5-4432-40a3-a8e1-e626f7595f20\">\n",
              "    <div class=\"colab-df-container\">\n",
              "      <div>\n",
              "<style scoped>\n",
              "    .dataframe tbody tr th:only-of-type {\n",
              "        vertical-align: middle;\n",
              "    }\n",
              "\n",
              "    .dataframe tbody tr th {\n",
              "        vertical-align: top;\n",
              "    }\n",
              "\n",
              "    .dataframe thead th {\n",
              "        text-align: right;\n",
              "    }\n",
              "</style>\n",
              "<table border=\"1\" class=\"dataframe\">\n",
              "  <thead>\n",
              "    <tr style=\"text-align: right;\">\n",
              "      <th></th>\n",
              "      <th>ActivityDate</th>\n",
              "      <th>ID</th>\n",
              "      <th>ActivityCategoryName</th>\n",
              "      <th>StartTimeInLocal</th>\n",
              "      <th>EndTimeInLocal</th>\n",
              "      <th>FileOrUrlName</th>\n",
              "      <th>TimeSpent</th>\n",
              "      <th>isCore</th>\n",
              "      <th>ActivityTime</th>\n",
              "      <th>Description</th>\n",
              "      <th>Effective Date</th>\n",
              "      <th>JobFamilyName</th>\n",
              "      <th>DepartmentName</th>\n",
              "      <th>TeamName</th>\n",
              "      <th>DoW</th>\n",
              "      <th>Days to termination</th>\n",
              "    </tr>\n",
              "  </thead>\n",
              "  <tbody>\n",
              "    <tr>\n",
              "      <th>0</th>\n",
              "      <td>2021-08-05</td>\n",
              "      <td>14906</td>\n",
              "      <td>Other</td>\n",
              "      <td>2021-08-05 08:57:48</td>\n",
              "      <td>2021-08-05 08:58:03</td>\n",
              "      <td>https://passportprd.tenent39-dns.com/ecomes.zw...</td>\n",
              "      <td>0.25</td>\n",
              "      <td>1</td>\n",
              "      <td>0.004167</td>\n",
              "      <td>0</td>\n",
              "      <td>2021-08-17</td>\n",
              "      <td>Domestic Mandatory Corporate Actions</td>\n",
              "      <td>TTSS</td>\n",
              "      <td>909</td>\n",
              "      <td>3</td>\n",
              "      <td>12</td>\n",
              "    </tr>\n",
              "    <tr>\n",
              "      <th>1</th>\n",
              "      <td>2021-07-20</td>\n",
              "      <td>14906</td>\n",
              "      <td>Other</td>\n",
              "      <td>2021-07-20 15:10:48</td>\n",
              "      <td>2021-07-20 15:11:03</td>\n",
              "      <td>microsoft teams</td>\n",
              "      <td>0.25</td>\n",
              "      <td>1</td>\n",
              "      <td>0.004167</td>\n",
              "      <td>0</td>\n",
              "      <td>2021-08-17</td>\n",
              "      <td>Domestic Mandatory Corporate Actions</td>\n",
              "      <td>TTSS</td>\n",
              "      <td>909</td>\n",
              "      <td>1</td>\n",
              "      <td>28</td>\n",
              "    </tr>\n",
              "    <tr>\n",
              "      <th>2</th>\n",
              "      <td>2021-09-01</td>\n",
              "      <td>14975</td>\n",
              "      <td>Other</td>\n",
              "      <td>2021-09-01 10:40:50</td>\n",
              "      <td>2021-09-01 10:41:05</td>\n",
              "      <td>excel</td>\n",
              "      <td>0.25</td>\n",
              "      <td>1</td>\n",
              "      <td>0.004167</td>\n",
              "      <td>0</td>\n",
              "      <td>2021-12-03</td>\n",
              "      <td>Domestic Trade Services</td>\n",
              "      <td>TTSS</td>\n",
              "      <td>1168</td>\n",
              "      <td>2</td>\n",
              "      <td>93</td>\n",
              "    </tr>\n",
              "    <tr>\n",
              "      <th>3</th>\n",
              "      <td>2022-01-28</td>\n",
              "      <td>14932</td>\n",
              "      <td>Other</td>\n",
              "      <td>2022-01-28 10:00:11</td>\n",
              "      <td>2022-01-28 10:00:26</td>\n",
              "      <td>microsoft teams</td>\n",
              "      <td>0.25</td>\n",
              "      <td>1</td>\n",
              "      <td>0.004167</td>\n",
              "      <td>0</td>\n",
              "      <td>2022-08-05</td>\n",
              "      <td>Income - DTC Debt</td>\n",
              "      <td>TTSS</td>\n",
              "      <td>1177</td>\n",
              "      <td>4</td>\n",
              "      <td>189</td>\n",
              "    </tr>\n",
              "    <tr>\n",
              "      <th>4</th>\n",
              "      <td>2021-11-30</td>\n",
              "      <td>14975</td>\n",
              "      <td>Other</td>\n",
              "      <td>2021-11-30 10:26:22</td>\n",
              "      <td>2021-11-30 10:26:52</td>\n",
              "      <td>message (html)</td>\n",
              "      <td>0.50</td>\n",
              "      <td>0</td>\n",
              "      <td>0.008333</td>\n",
              "      <td>0</td>\n",
              "      <td>2021-12-03</td>\n",
              "      <td>Domestic Trade Services</td>\n",
              "      <td>TTSS</td>\n",
              "      <td>1168</td>\n",
              "      <td>1</td>\n",
              "      <td>3</td>\n",
              "    </tr>\n",
              "  </tbody>\n",
              "</table>\n",
              "</div>\n",
              "      <button class=\"colab-df-convert\" onclick=\"convertToInteractive('df-2608b9f5-4432-40a3-a8e1-e626f7595f20')\"\n",
              "              title=\"Convert this dataframe to an interactive table.\"\n",
              "              style=\"display:none;\">\n",
              "        \n",
              "  <svg xmlns=\"http://www.w3.org/2000/svg\" height=\"24px\"viewBox=\"0 0 24 24\"\n",
              "       width=\"24px\">\n",
              "    <path d=\"M0 0h24v24H0V0z\" fill=\"none\"/>\n",
              "    <path d=\"M18.56 5.44l.94 2.06.94-2.06 2.06-.94-2.06-.94-.94-2.06-.94 2.06-2.06.94zm-11 1L8.5 8.5l.94-2.06 2.06-.94-2.06-.94L8.5 2.5l-.94 2.06-2.06.94zm10 10l.94 2.06.94-2.06 2.06-.94-2.06-.94-.94-2.06-.94 2.06-2.06.94z\"/><path d=\"M17.41 7.96l-1.37-1.37c-.4-.4-.92-.59-1.43-.59-.52 0-1.04.2-1.43.59L10.3 9.45l-7.72 7.72c-.78.78-.78 2.05 0 2.83L4 21.41c.39.39.9.59 1.41.59.51 0 1.02-.2 1.41-.59l7.78-7.78 2.81-2.81c.8-.78.8-2.07 0-2.86zM5.41 20L4 18.59l7.72-7.72 1.47 1.35L5.41 20z\"/>\n",
              "  </svg>\n",
              "      </button>\n",
              "      \n",
              "  <style>\n",
              "    .colab-df-container {\n",
              "      display:flex;\n",
              "      flex-wrap:wrap;\n",
              "      gap: 12px;\n",
              "    }\n",
              "\n",
              "    .colab-df-convert {\n",
              "      background-color: #E8F0FE;\n",
              "      border: none;\n",
              "      border-radius: 50%;\n",
              "      cursor: pointer;\n",
              "      display: none;\n",
              "      fill: #1967D2;\n",
              "      height: 32px;\n",
              "      padding: 0 0 0 0;\n",
              "      width: 32px;\n",
              "    }\n",
              "\n",
              "    .colab-df-convert:hover {\n",
              "      background-color: #E2EBFA;\n",
              "      box-shadow: 0px 1px 2px rgba(60, 64, 67, 0.3), 0px 1px 3px 1px rgba(60, 64, 67, 0.15);\n",
              "      fill: #174EA6;\n",
              "    }\n",
              "\n",
              "    [theme=dark] .colab-df-convert {\n",
              "      background-color: #3B4455;\n",
              "      fill: #D2E3FC;\n",
              "    }\n",
              "\n",
              "    [theme=dark] .colab-df-convert:hover {\n",
              "      background-color: #434B5C;\n",
              "      box-shadow: 0px 1px 3px 1px rgba(0, 0, 0, 0.15);\n",
              "      filter: drop-shadow(0px 1px 2px rgba(0, 0, 0, 0.3));\n",
              "      fill: #FFFFFF;\n",
              "    }\n",
              "  </style>\n",
              "\n",
              "      <script>\n",
              "        const buttonEl =\n",
              "          document.querySelector('#df-2608b9f5-4432-40a3-a8e1-e626f7595f20 button.colab-df-convert');\n",
              "        buttonEl.style.display =\n",
              "          google.colab.kernel.accessAllowed ? 'block' : 'none';\n",
              "\n",
              "        async function convertToInteractive(key) {\n",
              "          const element = document.querySelector('#df-2608b9f5-4432-40a3-a8e1-e626f7595f20');\n",
              "          const dataTable =\n",
              "            await google.colab.kernel.invokeFunction('convertToInteractive',\n",
              "                                                     [key], {});\n",
              "          if (!dataTable) return;\n",
              "\n",
              "          const docLinkHtml = 'Like what you see? Visit the ' +\n",
              "            '<a target=\"_blank\" href=https://colab.research.google.com/notebooks/data_table.ipynb>data table notebook</a>'\n",
              "            + ' to learn more about interactive tables.';\n",
              "          element.innerHTML = '';\n",
              "          dataTable['output_type'] = 'display_data';\n",
              "          await google.colab.output.renderOutput(dataTable, element);\n",
              "          const docLink = document.createElement('div');\n",
              "          docLink.innerHTML = docLinkHtml;\n",
              "          element.appendChild(docLink);\n",
              "        }\n",
              "      </script>\n",
              "    </div>\n",
              "  </div>\n",
              "  "
            ],
            "text/plain": [
              "  ActivityDate     ID ActivityCategoryName     StartTimeInLocal  \\\n",
              "0   2021-08-05  14906                Other  2021-08-05 08:57:48   \n",
              "1   2021-07-20  14906                Other  2021-07-20 15:10:48   \n",
              "2   2021-09-01  14975                Other  2021-09-01 10:40:50   \n",
              "3   2022-01-28  14932                Other  2022-01-28 10:00:11   \n",
              "4   2021-11-30  14975                Other  2021-11-30 10:26:22   \n",
              "\n",
              "        EndTimeInLocal                                      FileOrUrlName  \\\n",
              "0  2021-08-05 08:58:03  https://passportprd.tenent39-dns.com/ecomes.zw...   \n",
              "1  2021-07-20 15:11:03                                    microsoft teams   \n",
              "2  2021-09-01 10:41:05                                              excel   \n",
              "3  2022-01-28 10:00:26                                    microsoft teams   \n",
              "4  2021-11-30 10:26:52                                     message (html)   \n",
              "\n",
              "   TimeSpent  isCore  ActivityTime  Description Effective Date  \\\n",
              "0       0.25       1      0.004167            0     2021-08-17   \n",
              "1       0.25       1      0.004167            0     2021-08-17   \n",
              "2       0.25       1      0.004167            0     2021-12-03   \n",
              "3       0.25       1      0.004167            0     2022-08-05   \n",
              "4       0.50       0      0.008333            0     2021-12-03   \n",
              "\n",
              "                          JobFamilyName DepartmentName  TeamName  DoW  \\\n",
              "0  Domestic Mandatory Corporate Actions           TTSS       909    3   \n",
              "1  Domestic Mandatory Corporate Actions           TTSS       909    1   \n",
              "2               Domestic Trade Services           TTSS      1168    2   \n",
              "3                     Income - DTC Debt           TTSS      1177    4   \n",
              "4               Domestic Trade Services           TTSS      1168    1   \n",
              "\n",
              "   Days to termination  \n",
              "0                   12  \n",
              "1                   28  \n",
              "2                   93  \n",
              "3                  189  \n",
              "4                    3  "
            ]
          },
          "execution_count": 3,
          "metadata": {},
          "output_type": "execute_result"
        }
      ],
      "source": [
        "#loading the datasets to be used\n",
        "departments = pd.read_csv(\"/content/drive/MyDrive/Copy of Updated_TTSS_department.csv\")\n",
        "departments.head()"
      ]
    },
    {
      "cell_type": "code",
      "execution_count": null,
      "metadata": {
        "colab": {
          "base_uri": "https://localhost:8080/"
        },
        "id": "sqtQo80hWyd6",
        "outputId": "f6e28723-f3a0-4fa0-dd72-242d6fdeda42"
      },
      "outputs": [
        {
          "name": "stdout",
          "output_type": "stream",
          "text": [
            "<class 'pandas.core.frame.DataFrame'>\n",
            "RangeIndex: 9259123 entries, 0 to 9259122\n",
            "Data columns (total 16 columns):\n",
            " #   Column                Dtype  \n",
            "---  ------                -----  \n",
            " 0   ActivityDate          object \n",
            " 1   ID                    int64  \n",
            " 2   ActivityCategoryName  object \n",
            " 3   StartTimeInLocal      object \n",
            " 4   EndTimeInLocal        object \n",
            " 5   FileOrUrlName         object \n",
            " 6   TimeSpent             float64\n",
            " 7   isCore                int64  \n",
            " 8   ActivityTime          float64\n",
            " 9   Description           int64  \n",
            " 10  Effective Date        object \n",
            " 11  JobFamilyName         object \n",
            " 12  DepartmentName        object \n",
            " 13  TeamName              int64  \n",
            " 14  DoW                   int64  \n",
            " 15  Days to termination   int64  \n",
            "dtypes: float64(2), int64(6), object(8)\n",
            "memory usage: 1.1+ GB\n"
          ]
        }
      ],
      "source": [
        "departments.info()"
      ]
    },
    {
      "cell_type": "code",
      "execution_count": null,
      "metadata": {
        "colab": {
          "base_uri": "https://localhost:8080/"
        },
        "id": "11AzdtOKwXIx",
        "outputId": "5ef3d19a-2ef9-4761-a0d6-104d7c4cf700"
      },
      "outputs": [
        {
          "data": {
            "text/plain": [
              "ActivityDate                  0\n",
              "ID                            0\n",
              "ActivityCategoryName          0\n",
              "StartTimeInLocal        1282455\n",
              "EndTimeInLocal          1282455\n",
              "FileOrUrlName           2015558\n",
              "TimeSpent               1282455\n",
              "isCore                        0\n",
              "ActivityTime                  0\n",
              "Description                   0\n",
              "Effective Date          1282455\n",
              "JobFamilyName                 0\n",
              "DepartmentName                0\n",
              "TeamName                      0\n",
              "DoW                           0\n",
              "Days to termination           0\n",
              "dtype: int64"
            ]
          },
          "execution_count": 5,
          "metadata": {},
          "output_type": "execute_result"
        }
      ],
      "source": [
        "departments.isna().sum()"
      ]
    },
    {
      "cell_type": "code",
      "execution_count": null,
      "metadata": {
        "colab": {
          "base_uri": "https://localhost:8080/"
        },
        "id": "dga4fKKywVn-",
        "outputId": "8075911e-7386-4f0d-bfc6-c20400299404"
      },
      "outputs": [
        {
          "data": {
            "text/plain": [
              "ActivityDate                 0\n",
              "TimeSpent              1282455\n",
              "isCore                       0\n",
              "ActivityTime                 0\n",
              "Description                  0\n",
              "DepartmentName               0\n",
              "TeamName                     0\n",
              "DoW                          0\n",
              "Days to termination          0\n",
              "dtype: int64"
            ]
          },
          "execution_count": 6,
          "metadata": {},
          "output_type": "execute_result"
        }
      ],
      "source": [
        "#drop columns Activity Date, ID, StartTimeInLocal, EndTimeInLocal, FileOrUrlName, Effective Date\n",
        "departments1 = departments.drop(['ID', 'StartTimeInLocal', 'EndTimeInLocal', 'FileOrUrlName', 'Effective Date','ActivityCategoryName','JobFamilyName'], axis = 1)\n",
        "departments1.isna().sum()"
      ]
    },
    {
      "cell_type": "code",
      "execution_count": null,
      "metadata": {
        "colab": {
          "base_uri": "https://localhost:8080/"
        },
        "id": "xQ3wYj5lx-B_",
        "outputId": "3aacc228-7f9a-43f1-98bf-95810bfc4f6a"
      },
      "outputs": [
        {
          "data": {
            "text/plain": [
              "ActivityDate           0\n",
              "TimeSpent              0\n",
              "isCore                 0\n",
              "ActivityTime           0\n",
              "Description            0\n",
              "DepartmentName         0\n",
              "TeamName               0\n",
              "DoW                    0\n",
              "Days to termination    0\n",
              "dtype: int64"
            ]
          },
          "execution_count": 7,
          "metadata": {},
          "output_type": "execute_result"
        }
      ],
      "source": [
        "#impute the missing values in TimeSpent\n",
        "from sklearn.impute import SimpleImputer\n",
        "imp = SimpleImputer(strategy='mean')\n",
        "departments1['TimeSpent'] = imp.fit_transform(departments1['TimeSpent'].values.reshape(-1, 1))\n",
        "\n",
        "departments1.isna().sum()"
      ]
    },
    {
      "cell_type": "code",
      "execution_count": null,
      "metadata": {
        "colab": {
          "base_uri": "https://localhost:8080/"
        },
        "id": "HlKDvJgzCK0c",
        "outputId": "a34bdd9a-af04-4260-87e4-756130b8344a"
      },
      "outputs": [
        {
          "name": "stdout",
          "output_type": "stream",
          "text": [
            "['TTSS']\n"
          ]
        }
      ],
      "source": [
        "print(departments1['DepartmentName'].unique())\n"
      ]
    },
    {
      "cell_type": "code",
      "execution_count": null,
      "metadata": {
        "id": "mgXAcYmQ0MMO"
      },
      "outputs": [],
      "source": [
        "def encode_dates(departments1, columns_with_prefixes):\n",
        "    departments1 = departments1.copy()\n",
        "    \n",
        "    for column, prefix in columns_with_prefixes:\n",
        "        departments1[column] = pd.to_datetime(departments1[column])\n",
        "        \n",
        "        departments1[prefix + '_year'] = departments1[column].apply(lambda x: x.year)\n",
        "        departments1[prefix + '_month'] = departments1[column].apply(lambda x: x.month)\n",
        "        departments1[prefix + '_day'] = departments1[column].apply(lambda x: x.day)\n",
        "        \n",
        "        departments1 = departments1.drop(column, axis=1)\n",
        "        \n",
        "    return departments1\n",
        "\n",
        "\n",
        "def onehot_encode(departments1, columns_with_prefixes):\n",
        "    departments1 = departments1.copy()\n",
        "    \n",
        "    for column, prefix in columns_with_prefixes:\n",
        "        dummies = pd.get_dummies(departments1[column], prefix=prefix)\n",
        "        departments1 = pd.concat([departments1, dummies], axis=1)\n",
        "        departments1 = departments1.drop(column, axis=1)\n",
        "    \n",
        "    return departments1\n"
      ]
    },
    {
      "cell_type": "code",
      "execution_count": null,
      "metadata": {
        "id": "y9DH8o4y9N61"
      },
      "outputs": [],
      "source": [
        "def preprocess_inputs(departments1):\n",
        "    departments1 = departments1.copy()\n",
        "   \n",
        "   # Date encoding\n",
        "date_columns = [\n",
        "        ('ActivityDate', \"ACD\")\n",
        "    ]\n",
        "departments1 = encode_dates(departments1, columns_with_prefixes=date_columns)"
      ]
    },
    {
      "cell_type": "code",
      "execution_count": null,
      "metadata": {
        "id": "ZWWCo80JA7wx"
      },
      "outputs": [],
      "source": [
        "from sklearn import preprocessing"
      ]
    },
    {
      "cell_type": "code",
      "execution_count": null,
      "metadata": {
        "id": "A_AfMp1gAK18"
      },
      "outputs": [],
      "source": [
        "le = preprocessing.LabelEncoder()\n",
        "departments1['DepartmentName'] = le.fit_transform(departments1.DepartmentName.values)"
      ]
    },
    {
      "cell_type": "code",
      "execution_count": null,
      "metadata": {
        "colab": {
          "base_uri": "https://localhost:8080/",
          "height": 206
        },
        "id": "Tz4N-dCaZsF5",
        "outputId": "bb0e6431-146e-4454-c317-3a83d30976b6"
      },
      "outputs": [
        {
          "data": {
            "text/html": [
              "\n",
              "  <div id=\"df-a49953bb-c961-4150-ad06-34795ad14934\">\n",
              "    <div class=\"colab-df-container\">\n",
              "      <div>\n",
              "<style scoped>\n",
              "    .dataframe tbody tr th:only-of-type {\n",
              "        vertical-align: middle;\n",
              "    }\n",
              "\n",
              "    .dataframe tbody tr th {\n",
              "        vertical-align: top;\n",
              "    }\n",
              "\n",
              "    .dataframe thead th {\n",
              "        text-align: right;\n",
              "    }\n",
              "</style>\n",
              "<table border=\"1\" class=\"dataframe\">\n",
              "  <thead>\n",
              "    <tr style=\"text-align: right;\">\n",
              "      <th></th>\n",
              "      <th>TimeSpent</th>\n",
              "      <th>isCore</th>\n",
              "      <th>ActivityTime</th>\n",
              "      <th>Description</th>\n",
              "      <th>DepartmentName</th>\n",
              "      <th>TeamName</th>\n",
              "      <th>DoW</th>\n",
              "      <th>Days to termination</th>\n",
              "      <th>ACD_year</th>\n",
              "      <th>ACD_month</th>\n",
              "      <th>ACD_day</th>\n",
              "    </tr>\n",
              "  </thead>\n",
              "  <tbody>\n",
              "    <tr>\n",
              "      <th>0</th>\n",
              "      <td>0.25</td>\n",
              "      <td>1</td>\n",
              "      <td>0.004167</td>\n",
              "      <td>0</td>\n",
              "      <td>0</td>\n",
              "      <td>909</td>\n",
              "      <td>3</td>\n",
              "      <td>12</td>\n",
              "      <td>2021</td>\n",
              "      <td>8</td>\n",
              "      <td>5</td>\n",
              "    </tr>\n",
              "    <tr>\n",
              "      <th>1</th>\n",
              "      <td>0.25</td>\n",
              "      <td>1</td>\n",
              "      <td>0.004167</td>\n",
              "      <td>0</td>\n",
              "      <td>0</td>\n",
              "      <td>909</td>\n",
              "      <td>1</td>\n",
              "      <td>28</td>\n",
              "      <td>2021</td>\n",
              "      <td>7</td>\n",
              "      <td>20</td>\n",
              "    </tr>\n",
              "    <tr>\n",
              "      <th>2</th>\n",
              "      <td>0.25</td>\n",
              "      <td>1</td>\n",
              "      <td>0.004167</td>\n",
              "      <td>0</td>\n",
              "      <td>0</td>\n",
              "      <td>1168</td>\n",
              "      <td>2</td>\n",
              "      <td>93</td>\n",
              "      <td>2021</td>\n",
              "      <td>9</td>\n",
              "      <td>1</td>\n",
              "    </tr>\n",
              "    <tr>\n",
              "      <th>3</th>\n",
              "      <td>0.25</td>\n",
              "      <td>1</td>\n",
              "      <td>0.004167</td>\n",
              "      <td>0</td>\n",
              "      <td>0</td>\n",
              "      <td>1177</td>\n",
              "      <td>4</td>\n",
              "      <td>189</td>\n",
              "      <td>2022</td>\n",
              "      <td>1</td>\n",
              "      <td>28</td>\n",
              "    </tr>\n",
              "    <tr>\n",
              "      <th>4</th>\n",
              "      <td>0.50</td>\n",
              "      <td>0</td>\n",
              "      <td>0.008333</td>\n",
              "      <td>0</td>\n",
              "      <td>0</td>\n",
              "      <td>1168</td>\n",
              "      <td>1</td>\n",
              "      <td>3</td>\n",
              "      <td>2021</td>\n",
              "      <td>11</td>\n",
              "      <td>30</td>\n",
              "    </tr>\n",
              "  </tbody>\n",
              "</table>\n",
              "</div>\n",
              "      <button class=\"colab-df-convert\" onclick=\"convertToInteractive('df-a49953bb-c961-4150-ad06-34795ad14934')\"\n",
              "              title=\"Convert this dataframe to an interactive table.\"\n",
              "              style=\"display:none;\">\n",
              "        \n",
              "  <svg xmlns=\"http://www.w3.org/2000/svg\" height=\"24px\"viewBox=\"0 0 24 24\"\n",
              "       width=\"24px\">\n",
              "    <path d=\"M0 0h24v24H0V0z\" fill=\"none\"/>\n",
              "    <path d=\"M18.56 5.44l.94 2.06.94-2.06 2.06-.94-2.06-.94-.94-2.06-.94 2.06-2.06.94zm-11 1L8.5 8.5l.94-2.06 2.06-.94-2.06-.94L8.5 2.5l-.94 2.06-2.06.94zm10 10l.94 2.06.94-2.06 2.06-.94-2.06-.94-.94-2.06-.94 2.06-2.06.94z\"/><path d=\"M17.41 7.96l-1.37-1.37c-.4-.4-.92-.59-1.43-.59-.52 0-1.04.2-1.43.59L10.3 9.45l-7.72 7.72c-.78.78-.78 2.05 0 2.83L4 21.41c.39.39.9.59 1.41.59.51 0 1.02-.2 1.41-.59l7.78-7.78 2.81-2.81c.8-.78.8-2.07 0-2.86zM5.41 20L4 18.59l7.72-7.72 1.47 1.35L5.41 20z\"/>\n",
              "  </svg>\n",
              "      </button>\n",
              "      \n",
              "  <style>\n",
              "    .colab-df-container {\n",
              "      display:flex;\n",
              "      flex-wrap:wrap;\n",
              "      gap: 12px;\n",
              "    }\n",
              "\n",
              "    .colab-df-convert {\n",
              "      background-color: #E8F0FE;\n",
              "      border: none;\n",
              "      border-radius: 50%;\n",
              "      cursor: pointer;\n",
              "      display: none;\n",
              "      fill: #1967D2;\n",
              "      height: 32px;\n",
              "      padding: 0 0 0 0;\n",
              "      width: 32px;\n",
              "    }\n",
              "\n",
              "    .colab-df-convert:hover {\n",
              "      background-color: #E2EBFA;\n",
              "      box-shadow: 0px 1px 2px rgba(60, 64, 67, 0.3), 0px 1px 3px 1px rgba(60, 64, 67, 0.15);\n",
              "      fill: #174EA6;\n",
              "    }\n",
              "\n",
              "    [theme=dark] .colab-df-convert {\n",
              "      background-color: #3B4455;\n",
              "      fill: #D2E3FC;\n",
              "    }\n",
              "\n",
              "    [theme=dark] .colab-df-convert:hover {\n",
              "      background-color: #434B5C;\n",
              "      box-shadow: 0px 1px 3px 1px rgba(0, 0, 0, 0.15);\n",
              "      filter: drop-shadow(0px 1px 2px rgba(0, 0, 0, 0.3));\n",
              "      fill: #FFFFFF;\n",
              "    }\n",
              "  </style>\n",
              "\n",
              "      <script>\n",
              "        const buttonEl =\n",
              "          document.querySelector('#df-a49953bb-c961-4150-ad06-34795ad14934 button.colab-df-convert');\n",
              "        buttonEl.style.display =\n",
              "          google.colab.kernel.accessAllowed ? 'block' : 'none';\n",
              "\n",
              "        async function convertToInteractive(key) {\n",
              "          const element = document.querySelector('#df-a49953bb-c961-4150-ad06-34795ad14934');\n",
              "          const dataTable =\n",
              "            await google.colab.kernel.invokeFunction('convertToInteractive',\n",
              "                                                     [key], {});\n",
              "          if (!dataTable) return;\n",
              "\n",
              "          const docLinkHtml = 'Like what you see? Visit the ' +\n",
              "            '<a target=\"_blank\" href=https://colab.research.google.com/notebooks/data_table.ipynb>data table notebook</a>'\n",
              "            + ' to learn more about interactive tables.';\n",
              "          element.innerHTML = '';\n",
              "          dataTable['output_type'] = 'display_data';\n",
              "          await google.colab.output.renderOutput(dataTable, element);\n",
              "          const docLink = document.createElement('div');\n",
              "          docLink.innerHTML = docLinkHtml;\n",
              "          element.appendChild(docLink);\n",
              "        }\n",
              "      </script>\n",
              "    </div>\n",
              "  </div>\n",
              "  "
            ],
            "text/plain": [
              "   TimeSpent  isCore  ActivityTime  Description  DepartmentName  TeamName  \\\n",
              "0       0.25       1      0.004167            0               0       909   \n",
              "1       0.25       1      0.004167            0               0       909   \n",
              "2       0.25       1      0.004167            0               0      1168   \n",
              "3       0.25       1      0.004167            0               0      1177   \n",
              "4       0.50       0      0.008333            0               0      1168   \n",
              "\n",
              "   DoW  Days to termination  ACD_year  ACD_month  ACD_day  \n",
              "0    3                   12      2021          8        5  \n",
              "1    1                   28      2021          7       20  \n",
              "2    2                   93      2021          9        1  \n",
              "3    4                  189      2022          1       28  \n",
              "4    1                    3      2021         11       30  "
            ]
          },
          "execution_count": 13,
          "metadata": {},
          "output_type": "execute_result"
        }
      ],
      "source": [
        "departments1.head()"
      ]
    },
    {
      "cell_type": "code",
      "execution_count": null,
      "metadata": {
        "colab": {
          "base_uri": "https://localhost:8080/"
        },
        "id": "9bWjOJgdI8gv",
        "outputId": "469771bd-4d64-48d4-f822-0889db369647"
      },
      "outputs": [
        {
          "name": "stdout",
          "output_type": "stream",
          "text": [
            "<class 'pandas.core.frame.DataFrame'>\n",
            "RangeIndex: 9259123 entries, 0 to 9259122\n",
            "Data columns (total 11 columns):\n",
            " #   Column               Dtype  \n",
            "---  ------               -----  \n",
            " 0   TimeSpent            float64\n",
            " 1   isCore               int64  \n",
            " 2   ActivityTime         float64\n",
            " 3   Description          int64  \n",
            " 4   DepartmentName       int64  \n",
            " 5   TeamName             int64  \n",
            " 6   DoW                  int64  \n",
            " 7   Days to termination  int64  \n",
            " 8   ACD_year             int64  \n",
            " 9   ACD_month            int64  \n",
            " 10  ACD_day              int64  \n",
            "dtypes: float64(2), int64(9)\n",
            "memory usage: 777.1 MB\n"
          ]
        }
      ],
      "source": [
        "#check the info of the department1 \n",
        "departments1.info()"
      ]
    },
    {
      "cell_type": "code",
      "execution_count": null,
      "metadata": {
        "colab": {
          "base_uri": "https://localhost:8080/"
        },
        "id": "sThYz4ZHJtXb",
        "outputId": "d33fc19d-cbcf-4d0c-b6e1-af1ea3e0ff75"
      },
      "outputs": [
        {
          "data": {
            "text/plain": [
              "(9259123, 11)"
            ]
          },
          "execution_count": 15,
          "metadata": {},
          "output_type": "execute_result"
        }
      ],
      "source": [
        "# check information on departments1 dataset\n",
        "departments1.shape"
      ]
    },
    {
      "cell_type": "markdown",
      "metadata": {
        "id": "Dn4kmSzqEsb8"
      },
      "source": [
        "There are now 9259123 rows and 11 columns in our new dataset departments1"
      ]
    },
    {
      "cell_type": "markdown",
      "metadata": {
        "id": "F2kCMsbTKkix"
      },
      "source": [
        "# **Data cleaning**"
      ]
    },
    {
      "cell_type": "code",
      "execution_count": null,
      "metadata": {
        "colab": {
          "base_uri": "https://localhost:8080/"
        },
        "id": "ZN6KRNAr3Q7e",
        "outputId": "f1c2539f-da16-42b0-f58f-438bf04778d4"
      },
      "outputs": [
        {
          "data": {
            "text/plain": [
              "TimeSpent              0\n",
              "isCore                 0\n",
              "ActivityTime           0\n",
              "Description            0\n",
              "DepartmentName         0\n",
              "TeamName               0\n",
              "DoW                    0\n",
              "Days to termination    0\n",
              "ACD_year               0\n",
              "ACD_month              0\n",
              "ACD_day                0\n",
              "dtype: int64"
            ]
          },
          "execution_count": 16,
          "metadata": {},
          "output_type": "execute_result"
        }
      ],
      "source": [
        "#check the missing values in departments dataset\n",
        "departments1.isna().sum()"
      ]
    },
    {
      "cell_type": "markdown",
      "metadata": {
        "id": "GgOqk8-kLdCj"
      },
      "source": [
        "No missing values in the departments1 dataset"
      ]
    },
    {
      "cell_type": "markdown",
      "metadata": {
        "id": "PCUfcDrmUNYs"
      },
      "source": [
        "# **Exploratory Analysis**"
      ]
    },
    {
      "cell_type": "code",
      "execution_count": null,
      "metadata": {
        "colab": {
          "base_uri": "https://localhost:8080/",
          "height": 314
        },
        "id": "zL8mhE-jTkC-",
        "outputId": "99d51985-1852-4021-d45f-77ed34fa1a81"
      },
      "outputs": [
        {
          "data": {
            "text/plain": [
              "<matplotlib.axes._subplots.AxesSubplot at 0x7f8201547160>"
            ]
          },
          "execution_count": 17,
          "metadata": {},
          "output_type": "execute_result"
        },
        {
          "data": {
            "image/png": "[encoded data removed]",
            "text/plain": [
              "<Figure size 432x288 with 1 Axes>"
            ]
          },
          "metadata": {},
          "output_type": "display_data"
        }
      ],
      "source": [
        "# My first hypothesis is that employee attrition will increase as years go by\n",
        "#Let us try to verify our hypothesis using the actual data.\n",
        "#So let’s look at the yearly employee  count by depatment\n",
        "departments1.groupby('ACD_year')['Description'].mean().plot.bar()"
      ]
    },
    {
      "cell_type": "markdown",
      "metadata": {
        "id": "Sl6003rzVdky"
      },
      "source": [
        "We see an slight growth in the employees attrition with respect to year which validates our hypothesis.\n"
      ]
    },
    {
      "cell_type": "code",
      "execution_count": null,
      "metadata": {
        "colab": {
          "base_uri": "https://localhost:8080/",
          "height": 301
        },
        "id": "DbljkgXrqKR7",
        "outputId": "3aa85786-368e-41fe-de48-e478eda887ba"
      },
      "outputs": [
        {
          "data": {
            "text/plain": [
              "<matplotlib.axes._subplots.AxesSubplot at 0x7f822e79aa00>"
            ]
          },
          "execution_count": 18,
          "metadata": {},
          "output_type": "execute_result"
        },
        {
          "data": {
            "image/png": "[encoded data removed]",
            "text/plain": [
              "<Figure size 432x288 with 1 Axes>"
            ]
          },
          "metadata": {},
          "output_type": "display_data"
        }
      ],
      "source": [
        "departments1.groupby('ACD_month')['Description'].mean().plot.bar()"
      ]
    },
    {
      "cell_type": "code",
      "execution_count": null,
      "metadata": {
        "colab": {
          "base_uri": "https://localhost:8080/",
          "height": 304
        },
        "id": "RnbVRrbCqWuU",
        "outputId": "a94a807c-1eb7-4c8b-8dd4-ec8025eac9b1"
      },
      "outputs": [
        {
          "data": {
            "text/plain": [
              "<matplotlib.axes._subplots.AxesSubplot at 0x7f81e59d78e0>"
            ]
          },
          "execution_count": 19,
          "metadata": {},
          "output_type": "execute_result"
        },
        {
          "data": {
            "image/png": "[encoded data removed]",
            "text/plain": [
              "<Figure size 432x288 with 1 Axes>"
            ]
          },
          "metadata": {},
          "output_type": "display_data"
        }
      ],
      "source": [
        "departments1.groupby('ACD_day')['Description'].mean().plot.bar()"
      ]
    },
    {
      "cell_type": "code",
      "execution_count": null,
      "metadata": {
        "colab": {
          "base_uri": "https://localhost:8080/",
          "height": 373
        },
        "id": "06dJl6EZX9vz",
        "outputId": "7980326b-7e0a-4f75-eb6c-9c7836fac9fa"
      },
      "outputs": [
        {
          "data": {
            "text/plain": [
              "<matplotlib.axes._subplots.AxesSubplot at 0x7f822eeb95e0>"
            ]
          },
          "execution_count": 20,
          "metadata": {},
          "output_type": "execute_result"
        },
        {
          "data": {
            "image/png": "[encoded data removed]",
            "text/plain": [
              "<Figure size 1080x360 with 1 Axes>"
            ]
          },
          "metadata": {},
          "output_type": "display_data"
        }
      ],
      "source": [
        "temp=departments1.groupby(['ACD_year','ACD_month','ACD_day'])['Description'].mean() \n",
        "temp.plot(figsize=(15,5), title= 'employee Count(year-month-day)', fontsize=14)"
      ]
    },
    {
      "cell_type": "code",
      "execution_count": null,
      "metadata": {
        "colab": {
          "base_uri": "https://localhost:8080/"
        },
        "id": "v0kZHtmVslJ3",
        "outputId": "e2034ae5-498b-4f8d-fbd6-60a6317189f0"
      },
      "outputs": [
        {
          "name": "stdout",
          "output_type": "stream",
          "text": [
            "[2021 2022]\n",
            "[ 8  7  9  1 11 10  2  6 12  3  5  4]\n",
            "[ 5 20  1 28 30 18 24  4 23  8 14 19  9 15 10 16  6 17  3 27 31 12 29  7\n",
            " 13 11 26 22 21 25  2]\n"
          ]
        }
      ],
      "source": [
        "print(departments1.ACD_year.unique()) \n",
        "print(departments1.ACD_month.unique())  \n",
        "print(departments1.ACD_day.unique())  "
      ]
    },
    {
      "cell_type": "markdown",
      "metadata": {
        "id": "BXa196_JtQmU"
      },
      "source": [
        "we have only two years ie 2021 and 2022\n",
        "the months range from january to december and the days from first to 31st"
      ]
    },
    {
      "cell_type": "markdown",
      "metadata": {
        "id": "2fKQ2TU4fElR"
      },
      "source": [
        "# **Modeling Techniques and Evaluation**"
      ]
    },
    {
      "cell_type": "code",
      "execution_count": null,
      "metadata": {
        "colab": {
          "base_uri": "https://localhost:8080/"
        },
        "id": "dnWJNlg6mcdz",
        "outputId": "1737e705-6efc-4d7f-f384-527667a1f508"
      },
      "outputs": [
        {
          "name": "stdout",
          "output_type": "stream",
          "text": [
            "(9259123, 10)\n",
            "(9259123,)\n"
          ]
        }
      ],
      "source": [
        "# Segregating the target from our data\n",
        "X = departments1.drop('Description',axis = 1).values\n",
        "y = departments1['Description'].values\n",
        "\n",
        "print(X.shape)\n",
        "print(y.shape)"
      ]
    },
    {
      "cell_type": "code",
      "execution_count": null,
      "metadata": {
        "id": "ZbuY0c5volE5"
      },
      "outputs": [],
      "source": [
        "#  Split the data into train and test set\n",
        "X_train, X_test, y_train, y_test = train_test_split(X, y, test_size = 0.2, random_state = 0)\n"
      ]
    },
    {
      "cell_type": "code",
      "execution_count": null,
      "metadata": {
        "id": "gA4wKSL95GZ0"
      },
      "outputs": [],
      "source": [
        "from sklearn.preprocessing import StandardScaler\n",
        "\n",
        "scaler = StandardScaler()\n",
        "X_train = scaler.fit_transform(X_train) \n",
        "X_test = scaler.transform(X_test) "
      ]
    },
    {
      "cell_type": "markdown",
      "metadata": {
        "id": "JrKYEXqVqOmC"
      },
      "source": [
        "# **Fitting the Model**"
      ]
    },
    {
      "cell_type": "code",
      "execution_count": null,
      "metadata": {
        "colab": {
          "base_uri": "https://localhost:8080/"
        },
        "id": "qqTaKg0rqKFv",
        "outputId": "b245e8b3-2b9b-44ba-8359-0f7192e7c120"
      },
      "outputs": [
        {
          "data": {
            "text/plain": [
              "array([1, 0, 0, ..., 0, 0, 0])"
            ]
          },
          "execution_count": 27,
          "metadata": {},
          "output_type": "execute_result"
        }
      ],
      "source": [
        "# Let's now build the svm model \n",
        "model = SVC(kernel = 'linear')\n",
        "# Train the model using the training set\n",
        "model.fit(X_train,y_train)\n",
        "\n",
        "# Predict the response for the test set\n",
        "y_pred = model.predict(X_test)\n",
        "y_pred"
      ]
    },
    {
      "cell_type": "code",
      "execution_count": null,
      "metadata": {
        "colab": {
          "base_uri": "https://localhost:8080/"
        },
        "id": "YI9QXQNVyDOU",
        "outputId": "250a407c-414f-49d0-ba11-81faafeac1cb"
      },
      "outputs": [
        {
          "data": {
            "text/plain": [
              "1.0"
            ]
          },
          "execution_count": 28,
          "metadata": {},
          "output_type": "execute_result"
        }
      ],
      "source": [
        "# Now that we have trained our model, let's test how well it can predict the employee attrition\n",
        "# Checking the accurancy of the model\n",
        "model_accuracy = accuracy_score(y_test,y_pred)\n",
        "model_accuracy"
      ]
    },
    {
      "cell_type": "code",
      "execution_count": null,
      "metadata": {
        "id": "aV5dA7bwz9jZ"
      },
      "outputs": [],
      "source": [
        "# importing relevant libraries\n",
        "from sklearn.metrics import confusion_matrix\n",
        "from sklearn.metrics import accuracy_score\n",
        "from sklearn.metrics import classification_report, confusion_matrix"
      ]
    },
    {
      "cell_type": "code",
      "execution_count": null,
      "metadata": {
        "colab": {
          "base_uri": "https://localhost:8080/"
        },
        "id": "iAjmuIek0IG8",
        "outputId": "1a483aed-33ac-4db7-adcb-c9a04134e838"
      },
      "outputs": [
        {
          "data": {
            "text/plain": [
              "array([[1595384,       0],\n",
              "       [      0,  256441]])"
            ]
          },
          "execution_count": 30,
          "metadata": {},
          "output_type": "execute_result"
        }
      ],
      "source": [
        "# For further evaluation you can also check the confusion matrix\n",
        "confusion_matrix = confusion_matrix(y_test, y_pred)\n",
        "confusion_matrix"
      ]
    },
    {
      "cell_type": "code",
      "execution_count": null,
      "metadata": {
        "colab": {
          "base_uri": "https://localhost:8080/"
        },
        "id": "BB_Jd4zp0M4d",
        "outputId": "028e0c28-ad9b-4829-9780-d141ccbcb768"
      },
      "outputs": [
        {
          "name": "stdout",
          "output_type": "stream",
          "text": [
            "              precision    recall  f1-score   support\n",
            "\n",
            "           0       1.00      1.00      1.00   1595384\n",
            "           1       1.00      1.00      1.00    256441\n",
            "\n",
            "    accuracy                           1.00   1851825\n",
            "   macro avg       1.00      1.00      1.00   1851825\n",
            "weighted avg       1.00      1.00      1.00   1851825\n",
            "\n"
          ]
        }
      ],
      "source": [
        "#print classification report\n",
        "classification_report(y_test, y_pred)\n",
        "print(classification_report(y_test, y_pred))"
      ]
    },
    {
      "cell_type": "markdown",
      "metadata": {
        "id": "Rp4_7pFn4Kek"
      },
      "source": [
        "The model is overfitting so there is need to do hyperparameter tuning"
      ]
    },
    {
      "cell_type": "markdown",
      "metadata": {
        "id": "iDd0pm0m4SoS"
      },
      "source": [
        "# Hyperparameter tuning using GridSearchCv "
      ]
    },
    {
      "cell_type": "code",
      "execution_count": null,
      "metadata": {
        "id": "5drmHkT8ESnR"
      },
      "outputs": [],
      "source": [
        "from sklearn.model_selection import GridSearchCV"
      ]
    },
    {
      "cell_type": "code",
      "execution_count": null,
      "metadata": {
        "id": "hHILLu3YFvmF"
      },
      "outputs": [],
      "source": [
        "param_grid = {'C': [0.1,1, 10, 100], 'gamma': [1,0.1,0.01,0.001],'kernel': ['sigmoid']}"
      ]
    },
    {
      "cell_type": "code",
      "execution_count": null,
      "metadata": {
        "id": "J3vtJ8Cwhx6J"
      },
      "outputs": [],
      "source": [
        "grid = GridSearchCV(SVC(), param_grid, refit = True, verbose = 3)"
      ]
    },
    {
      "cell_type": "code",
      "execution_count": null,
      "metadata": {
        "colab": {
          "background_save": true,
          "base_uri": "https://localhost:8080/"
        },
        "id": "kAy2CnT1h8b3",
        "outputId": "93bb7b74-1b76-492d-b39e-d4a4f11b3df5"
      },
      "outputs": [
        {
          "name": "stdout",
          "output_type": "stream",
          "text": [
            "Fitting 5 folds for each of 16 candidates, totalling 80 fits\n"
          ]
        }
      ],
      "source": [
        "# fitting the model for grid search\n",
        "grid.fit(X_train, y_train)"
      ]
    }
  ],
  "metadata": {
    "colab": {
      "provenance": [],
      "include_colab_link": true
    },
    "kernelspec": {
      "display_name": "Python 3",
      "name": "python3"
    },
    "language_info": {
      "name": "python"
    }
  },
  "nbformat": 4,
  "nbformat_minor": 0
}